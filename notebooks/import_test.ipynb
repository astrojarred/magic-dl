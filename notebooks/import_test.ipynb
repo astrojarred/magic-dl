{
 "cells": [
  {
   "cell_type": "code",
   "execution_count": 1,
   "id": "f7c5760e",
   "metadata": {},
   "outputs": [],
   "source": [
    "import ctlearn"
   ]
  },
  {
   "cell_type": "code",
   "execution_count": null,
   "id": "558644e8",
   "metadata": {},
   "outputs": [],
   "source": []
  }
 ],
 "metadata": {
  "interpreter": {
   "hash": "9f6c265a33c6e6a166da73a3b773a54332cf99998c3a6f81fa2d605b44ccaeb5"
  },
  "kernelspec": {
   "display_name": "ctlearn-0.6.0",
   "language": "python",
   "name": "ctlearn-0.6.0"
  },
  "language_info": {
   "codemirror_mode": {
    "name": "ipython",
    "version": 3
   },
   "file_extension": ".py",
   "mimetype": "text/x-python",
   "name": "python",
   "nbconvert_exporter": "python",
   "pygments_lexer": "ipython3",
   "version": "3.8.13"
  }
 },
 "nbformat": 4,
 "nbformat_minor": 5
}
